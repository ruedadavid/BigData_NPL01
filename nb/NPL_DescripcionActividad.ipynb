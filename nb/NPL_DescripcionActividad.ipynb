{
 "cells": [
  {
   "cell_type": "markdown",
   "metadata": {},
   "source": [
    "# Natural Language Processing\n",
    "Maestría Ciencias de Información y las Comunicaciones - Materia: Big Data.\n",
    "\n",
    "Por: David Alonso Rueda Rodríguez - 20181395007 (daruedar@correo.udistrital.edu.co)\n",
    "\n",
    "Por: Natalia Andrea Ramírez Pérez - 20181195009 (naraamirezp@correo.udistrital.edu.co)\n",
    "\n",
    "Tema: Propuesta de trabajo"
   ]
  },
  {
   "cell_type": "markdown",
   "metadata": {},
   "source": [
    "#### Objetivo de la actividad:\n",
    "\n",
    "Aplicar conceptos de Natural Language Processing para análisis de sentimientos sobre minería\n",
    "\n",
    "#### Fuente de datos:\n",
    "\n",
    "Se utilizarán datos extraidos desde redes sociales (Twitter, Instagram, Facebook) y medios masivos de comunicación (periódicos, diarios).\n",
    "\n",
    "#### Temas trabajados\n",
    "\n",
    "A continuación, listado de actividades trabajadas en el pre-procesamiento de datos:\n",
    "    \n",
    "##### Índice de temas\n",
    "\n",
    "    1. Definición de propuesta de trabajo\n",
    "    2. Identificación de fuente de datos\n",
    "    3. Librerías a utilizarse\n",
    "    \n",
    "#### Listado de versiones\n",
    "\n",
    "|Versión | Cambios|\n",
    "|:--|:--|\n",
    "|1.1.0|Ajuste de propuesta, se agregan integrantes de la actividad.| \n",
    "|1.0.0|Preparación de propuesta.| "
   ]
  },
  {
   "cell_type": "markdown",
   "metadata": {},
   "source": [
    "## 1. Definición de propuesta de trabajo\n",
    "\n",
    "La minería como séctor primario de la economía en los últimos tiempos ha suscitado numerosos movimientos sociales, esta actividad está recoge 9 diferentes actividades que van desde la prospección hasta el cierre de las áreas explotadas pasando por etapas de exploración, aprovechamiento del recurso y comercialización.\n",
    "\n",
    "En Colombia la tradición minera se extiende hasta la colonia, tema documentado en el libro ¿Cuál locomotora minera? El desalentador panorama de la minería en Colombia, escrito por Alvaro Ponce en 2014, en donde se menciona la existencia de minería en el Páramo de Santurban y en otras áreas.\n",
    "\n",
    "El objetivo de esta actividad es contrastar los sentimientos encontrados en las publicaciones realizadas en redes sociales y medios de comunicación sobre la Minería, dado este planteamiento la pregunta de investigación a tratar es la siguiente: ¿Cuál es el sentimiento de la población en Colombia frente a la minería?\n",
    "\n",
    "\n",
    "### 1.1 Objetivo General\n",
    "\n",
    "Aplicar conceptos de Natural Language Processing para análisis de sentimientos sobre minería\n",
    "\n",
    "### 1.2 Objetivos Específicos\n",
    "\n",
    "- Caracterizar los sentimientos generales de los tweets en el Colombia con respecto a la actividad.\n",
    "- Identificar los términos más asociados con la actividad de interés.\n",
    "- Identificar los principales centros de distribución de tweets positivos, negativos y neutros sobre la actividad.\n",
    "- Caracterizar a los productores de mensajes (emisores, receptores)\n",
    "\n",
    "### 1.3 Palabras Clave\n",
    "\n",
    "- [NLP]()\n",
    "- [Análisis de sentimientos](https://medium.com/analytics-vidhya/simplifying-social-media-sentiment-analysis-using-vader-in-python-f9e6ec6fc52f)\n",
    "- [Redes neuronales convolucionales](- [Análisis de sentimientos](https://medium.com/analytics-vidhya/simplifying-social-media-sentiment-analysis-using-vader-in-python-f9e6ec6fc52f))\n",
    "- [Python and NPL](https://likegeeks.com/es/tutorial-de-nlp-con-python-nltk/)\n",
    "- [Redes convolucionales](http://ceur-ws.org/Vol-2172/p4_ittainnova_tass2018.pdf)"
   ]
  },
  {
   "cell_type": "markdown",
   "metadata": {},
   "source": [
    "## 2. Identificación de fuente de datos"
   ]
  },
  {
   "cell_type": "code",
   "execution_count": 1,
   "metadata": {},
   "outputs": [],
   "source": [
    "Instituciones = {\n",
    "    'ANM':'@ANMColombia',\n",
    "    'MinMinas': 'MinMinas',\n",
    "    'MinAmbiente': '@MinAmbienteCo',\n",
    "    'Cortolima': '@Cortolima',\n",
    "    'Cdmb': '@CARCDMB',\n",
    "    'ACM':'@acmineriacol',    \n",
    "}"
   ]
  },
  {
   "cell_type": "markdown",
   "metadata": {},
   "source": [
    "### Supuestos iniciales\n",
    "\n",
    "Se espera que la mayoría de términos estén relacionados con temas negativos"
   ]
  },
  {
   "cell_type": "code",
   "execution_count": 2,
   "metadata": {},
   "outputs": [],
   "source": [
    "listado_palabras = ['mercurio', 'cianuro', 'enfermedad', 'minería ilegal',\n",
    "                    'minería legal', 'desarrollo sostenible'\n",
    "                ]"
   ]
  },
  {
   "cell_type": "markdown",
   "metadata": {},
   "source": [
    "## 3. Librerías a utilizarse\n",
    "\n",
    "- import tweetpy as tw\n",
    "- import pandas as pd\n",
    "- import folium as fl\n",
    "- import seaborn as sns\n",
    "- import TextBlob as tb\n",
    "- import spaCy\n"
   ]
  },
  {
   "cell_type": "code",
   "execution_count": 6,
   "metadata": {},
   "outputs": [],
   "source": [
    "import textblob"
   ]
  }
 ],
 "metadata": {
  "kernelspec": {
   "display_name": "Python 3",
   "language": "python",
   "name": "python3"
  },
  "language_info": {
   "codemirror_mode": {
    "name": "ipython",
    "version": 3
   },
   "file_extension": ".py",
   "mimetype": "text/x-python",
   "name": "python",
   "nbconvert_exporter": "python",
   "pygments_lexer": "ipython3",
   "version": "3.7.3"
  }
 },
 "nbformat": 4,
 "nbformat_minor": 2
}
