{
 "cells": [
  {
   "cell_type": "markdown",
   "metadata": {},
   "source": [
    "# Natural Language Processing\n",
    "Maestría Ciencias de Información y las Comunicaciones - Materia: Big Data.\n",
    "\n",
    "Por: David Alonso Rueda Rodríguez - 20181395007 (daruedar@correo.udistrital.edu.co)\n",
    "\n",
    "Tema: Propuesta de trabajo"
   ]
  },
  {
   "cell_type": "markdown",
   "metadata": {},
   "source": [
    "#### Objetivo de la actividad:\n",
    "\n",
    "Aplicar conceptos de Natural Processing Language para análisis de sentimientos sobre minería\n",
    "\n",
    "#### Fuente de datos:\n",
    "\n",
    "Se utilizarán datos extraidos desde la red social de Twitter en donde se revisarán cuentas oficiales del gobierno colombiano y ubicación de los ciudadanos el país.\n",
    "\n",
    "#### Temas trabajados\n",
    "\n",
    "A continuación, listado de actividades trabajadas en el pre-procesamiento de datos:\n",
    "    \n",
    "##### Índice de temas\n",
    "\n",
    "    1. Definición de propuesta de trabajo\n",
    "    2. Identificación de fuente de datos\n",
    "    3. Librerías a utilizarse\n",
    "    \n",
    "#### Listado de versiones\n",
    "\n",
    "|Versión | Cambios|\n",
    "|:--|:--|\n",
    "|1.0.0|Preparación de propuesta.| "
   ]
  },
  {
   "cell_type": "markdown",
   "metadata": {},
   "source": [
    "## 1. Definición de propuesta de trabajo\n",
    "\n",
    "La minería como séctor primario de la economía en los últimos tiempos ha suscitado numerosos movimientos sociales, esta actividad está recoge 9 diferentes actividades que van desde la prospección hasta el cierre de las áreas explotadas pasando por etapas de exploración, aprovechamiento del recurso y comercialización.\n",
    "\n",
    "En Colombia la tradición minera se extiende hasta la colonia, tema documentado en el libro ¿Cuál locomotora minera? El desalentador panorama de la minería en Colombia, escrito por Alvaro Ponce en 2014, en donde se menciona la existencia de minería en el Páramo de Santurban y en otras áreas.\n",
    "\n",
    "El objetivo de esta actividad es contrastar los sentimientos encontrados en las publicaciones realizadas en la red social de microblogging Twitter por parte de las instituciones encargadas de promover e inspeccionar la actividad, y la actividad de las personas en los diferentes territorios.\n",
    "\n",
    "### 1.1 Objetivo General\n",
    "\n",
    "Aplicar conceptos de Natural Processing Language para análisis de sentimientos sobre minería\n",
    "\n",
    "### 1.2 Objetivo General\n",
    "\n",
    "- Caracterizar los sentimientos generales de los tweets en el Colombia con respecto a la actividad.\n",
    "- Identificar los términos más asociados con la actividad de interés.\n",
    "- Identificar los principales centros de distribución de tweets positivos, negativos y neutros sobre la actividad."
   ]
  },
  {
   "cell_type": "markdown",
   "metadata": {},
   "source": [
    "## 2. Identificación de fuente de datos"
   ]
  },
  {
   "cell_type": "code",
   "execution_count": 3,
   "metadata": {},
   "outputs": [],
   "source": [
    "Instituciones = {\n",
    "    'ANM':'@ANMColombia',\n",
    "    'MinMinas': 'MinMinas',\n",
    "    'MinAmbiente': '@MinAmbienteCo',\n",
    "    'Cortolima': '@Cortolima',\n",
    "    'Cdmb': '@CARCDMB',\n",
    "    'ACM':'@acmineriacol',    \n",
    "}"
   ]
  },
  {
   "cell_type": "markdown",
   "metadata": {},
   "source": [
    "## 3. Librerías a utilizarse\n",
    "\n",
    "- import tweetpy as tw\n",
    "- import pandas as pd\n",
    "- import folium as fl\n",
    "- import seaborn as sns\n",
    "- import TextBlob as tb\n"
   ]
  }
 ],
 "metadata": {
  "kernelspec": {
   "display_name": "Python 3",
   "language": "python",
   "name": "python3"
  },
  "language_info": {
   "codemirror_mode": {
    "name": "ipython",
    "version": 3
   },
   "file_extension": ".py",
   "mimetype": "text/x-python",
   "name": "python",
   "nbconvert_exporter": "python",
   "pygments_lexer": "ipython3",
   "version": "3.6.7"
  }
 },
 "nbformat": 4,
 "nbformat_minor": 2
}
